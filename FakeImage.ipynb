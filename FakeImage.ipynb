{
  "nbformat": 4,
  "nbformat_minor": 0,
  "metadata": {
    "colab": {
      "provenance": []
    },
    "kernelspec": {
      "name": "python3",
      "display_name": "Python 3"
    },
    "language_info": {
      "name": "python"
    }
  },
  "cells": [
    {
      "cell_type": "code",
      "source": [
        "import os\n",
        "import cv2\n",
        "import numpy as np\n",
        "import tensorflow as tf\n",
        "from tensorflow import keras\n",
        "from tensorflow.keras import layers\n",
        "from sklearn.model_selection import train_test_split\n",
        "\n",
        "# Load and preprocess images\n",
        "def load_images_from_folder(folder):\n",
        "    images = []\n",
        "    for filename in os.listdir(folder):\n",
        "        img = cv2.imread(os.path.join(folder, filename))\n",
        "        if img is not None:\n",
        "            images.append(img)\n",
        "    return images\n",
        "\n",
        "real_images = load_images_from_folder('/content/drive/MyDrive/real_and_fake_face/training_real')\n",
        "fake_images = load_images_from_folder('/content/drive/MyDrive/real_and_fake_face/training_fake')\n",
        "\n",
        "\n",
        "def preprocess_images(images):\n",
        "    processed_images = []\n",
        "    for img in images:\n",
        "        img = cv2.resize(img, (224, 224))  # Resize to a common size\n",
        "        img = img / 255.0  # Normalize pixel values to [0, 1]\n",
        "        processed_images.append(img)\n",
        "    return np.array(processed_images)\n",
        "\n",
        "real_images = preprocess_images(real_images)\n",
        "fake_images = preprocess_images(fake_images)\n",
        "\n",
        "\n",
        "labels = [0] * len(real_images) + [1] * len(fake_images)\n",
        "images = np.concatenate((real_images, fake_images), axis=0)\n",
        "\n",
        "\n",
        "X_train, X_test, y_train, y_test = train_test_split(images, labels, test_size=0.2, random_state=42)\n",
        "\n",
        "X_train = np.array(X_train)\n",
        "y_train = np.array(y_train)\n",
        "\n",
        "model = keras.Sequential([\n",
        "    layers.Conv2D(32, (3, 3), activation='relu', input_shape=(224, 224, 3)),\n",
        "    layers.MaxPooling2D((2, 2)),\n",
        "    layers.Conv2D(64, (3, 3), activation='relu'),\n",
        "    layers.MaxPooling2D((2, 2)),\n",
        "    layers.Flatten(),\n",
        "    layers.Dense(128, activation='relu'),\n",
        "    layers.Dense(1, activation='sigmoid')  # Binary classification (real or fake)\n",
        "])\n",
        "\n",
        "model.compile(optimizer='adam', loss='binary_crossentropy', metrics=['accuracy'])\n",
        "\n",
        "model.fit(X_train, y_train, epochs=10, batch_size=32, validation_split=0.2)\n",
        "\n",
        "\n"
      ],
      "metadata": {
        "colab": {
          "base_uri": "https://localhost:8080/"
        },
        "id": "mDbpTqX9ZASg",
        "outputId": "2c367fb6-2940-40f5-b6f2-76078bc84e7a"
      },
      "execution_count": 1,
      "outputs": [
        {
          "output_type": "stream",
          "name": "stdout",
          "text": [
            "Epoch 1/10\n",
            "41/41 [==============================] - 72s 2s/step - loss: 1.6559 - accuracy: 0.5475 - val_loss: 0.6922 - val_accuracy: 0.5382\n",
            "Epoch 2/10\n",
            "41/41 [==============================] - 71s 2s/step - loss: 0.6792 - accuracy: 0.6080 - val_loss: 0.6807 - val_accuracy: 0.5719\n",
            "Epoch 3/10\n",
            "41/41 [==============================] - 71s 2s/step - loss: 0.6214 - accuracy: 0.6868 - val_loss: 0.6686 - val_accuracy: 0.6147\n",
            "Epoch 4/10\n",
            "41/41 [==============================] - 70s 2s/step - loss: 0.5114 - accuracy: 0.7588 - val_loss: 0.7465 - val_accuracy: 0.5902\n",
            "Epoch 5/10\n",
            "41/41 [==============================] - 72s 2s/step - loss: 0.3266 - accuracy: 0.8729 - val_loss: 0.8766 - val_accuracy: 0.5719\n",
            "Epoch 6/10\n",
            "41/41 [==============================] - 72s 2s/step - loss: 0.1782 - accuracy: 0.9395 - val_loss: 1.3140 - val_accuracy: 0.5413\n",
            "Epoch 7/10\n",
            "41/41 [==============================] - 70s 2s/step - loss: 0.0865 - accuracy: 0.9816 - val_loss: 1.4388 - val_accuracy: 0.5382\n",
            "Epoch 8/10\n",
            "41/41 [==============================] - 72s 2s/step - loss: 0.0660 - accuracy: 0.9832 - val_loss: 1.5481 - val_accuracy: 0.5505\n",
            "Epoch 9/10\n",
            "41/41 [==============================] - 73s 2s/step - loss: 0.0158 - accuracy: 0.9992 - val_loss: 2.0121 - val_accuracy: 0.5443\n",
            "Epoch 10/10\n",
            "41/41 [==============================] - 72s 2s/step - loss: 0.0050 - accuracy: 0.9992 - val_loss: 2.2334 - val_accuracy: 0.5627\n"
          ]
        },
        {
          "output_type": "execute_result",
          "data": {
            "text/plain": [
              "<keras.src.callbacks.History at 0x7e4b0cee3df0>"
            ]
          },
          "metadata": {},
          "execution_count": 1
        }
      ]
    },
    {
      "cell_type": "code",
      "source": [
        "X_test = np.array(X_test)\n",
        "y_test = np.array(y_test)"
      ],
      "metadata": {
        "id": "9bxeO3WCdHB8"
      },
      "execution_count": 2,
      "outputs": []
    },
    {
      "cell_type": "code",
      "source": [
        "test_loss, test_accuracy = model.evaluate(X_test, y_test)\n",
        "print(f\"Test accuracy: {test_accuracy}\")\n",
        "\n",
        "def predict_image(image_path):\n",
        "\n",
        "    img = cv2.imread(image_path)\n",
        "\n",
        "    if img is None:\n",
        "        return \"Error: Unable to load the image.\"\n",
        "\n",
        "    if img.shape[0] == 0 or img.shape[1] == 0:\n",
        "        return \"Error: Invalid image dimensions.\"\n",
        "\n",
        "    img = cv2.cvtColor(img, cv2.COLOR_BGR2RGB)\n",
        "    img = cv2.resize(img, (224, 224))\n",
        "\n",
        "    if img is None:\n",
        "        return \"Error: Unable to resize the image.\"\n",
        "\n",
        "    img = img / 255.0\n",
        "    img = np.expand_dims(img, axis=0)\n",
        "    prediction = model.predict(img)\n",
        "\n",
        "    if prediction[0] < 0.5:\n",
        "        return \"Real\"\n",
        "    else:\n",
        "        return \"Fake\"\n"
      ],
      "metadata": {
        "colab": {
          "base_uri": "https://localhost:8080/"
        },
        "id": "Gta_OrkaeIY6",
        "outputId": "167e43bb-186f-4dd0-b9cd-fdd4e6c3d265"
      },
      "execution_count": null,
      "outputs": [
        {
          "output_type": "stream",
          "name": "stdout",
          "text": [
            "13/13 [==============================] - 5s 402ms/step - loss: 2.1290 - accuracy: 0.5892\n"
          ]
        }
      ]
    },
    {
      "cell_type": "code",
      "source": [
        "# from google.colab import files\n",
        "\n",
        "# files.upload()\n",
        "\n",
        "result = predict_image('/WhatsApp Image 2023-09-23 at 3.54.28 PM.jpeg')\n",
        "print(f\"The image is {result}\")"
      ],
      "metadata": {
        "colab": {
          "base_uri": "https://localhost:8080/"
        },
        "id": "oYkrtCo8g9P6",
        "outputId": "2eb2edc1-d315-472c-db0f-be54320df81d"
      },
      "execution_count": null,
      "outputs": [
        {
          "output_type": "stream",
          "name": "stdout",
          "text": [
            "1/1 [==============================] - 0s 47ms/step\n",
            "The image is Fake\n"
          ]
        }
      ]
    }
  ]
}